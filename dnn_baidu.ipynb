{
 "cells": [
  {
   "cell_type": "markdown",
   "metadata": {
    "collapsed": false
   },
   "source": [
    "![](https://ai-studio-static-online.cdn.bcebos.com/61c6f63d666f4a81b98171b775ee8d486e610cf8fa654225b5cdd3c4b7db96ce)本项目对应视频课程已上线，点击前往学习[深度学习CV从入门到实战](https://aistudio.baidu.com/aistudio/course/introduce/789)-课节6手写数字识别实战讲解"
   ]
  },
  {
   "cell_type": "markdown",
   "metadata": {
    "collapsed": false
   },
   "source": [
    "本实践使用多层感知器训练（DNN）模型，用于预测手写数字图片。\n",
    "\n",
    "![](https://ai-studio-static-online.cdn.bcebos.com/ba26eac845334208851e72c7a2dfef5e1eec566894ba430aba7492e72c49cacd)"
   ]
  },
  {
   "cell_type": "markdown",
   "metadata": {
    "collapsed": false
   },
   "source": [
    " 实践总体过程和步骤如下图"
   ]
  },
  {
   "cell_type": "markdown",
   "metadata": {
    "collapsed": false
   },
   "source": [
    "![](https://ai-studio-static-online.cdn.bcebos.com/daa656fb63c54dec8e0e468ba8f65e1c94ccd7debd314d8ca6d179f12f13883d)"
   ]
  },
  {
   "cell_type": "markdown",
   "metadata": {
    "collapsed": false
   },
   "source": [
    "首先导入必要的包\n",
    "\n",
    "numpy---------->python第三方库，用于进行科学计算\n",
    "\n",
    "PIL------------> Python Image Library,python第三方图像处理库\n",
    "\n",
    "matplotlib----->python的绘图库 pyplot:matplotlib的绘图框架\n",
    "\n",
    "os------------->提供了丰富的方法来处理文件和目录\n"
   ]
  },
  {
   "cell_type": "code",
   "execution_count": 1,
   "metadata": {
    "collapsed": false
   },
   "outputs": [
    {
     "name": "stderr",
     "output_type": "stream",
     "text": [
      "2023-11-23 17:19:06,698-INFO: font search path ['/opt/conda/envs/python35-paddle120-env/lib/python3.7/site-packages/matplotlib/mpl-data/fonts/ttf', '/opt/conda/envs/python35-paddle120-env/lib/python3.7/site-packages/matplotlib/mpl-data/fonts/afm', '/opt/conda/envs/python35-paddle120-env/lib/python3.7/site-packages/matplotlib/mpl-data/fonts/pdfcorefonts']\n",
      "2023-11-23 17:19:07,187-INFO: generated new fontManager\n"
     ]
    }
   ],
   "source": [
    "#导入需要的包\r\n",
    "import numpy as np\r\n",
    "import paddle as paddle\r\n",
    "import paddle.fluid as fluid\r\n",
    "from PIL import Image\r\n",
    "import matplotlib.pyplot as plt\r\n",
    "import os"
   ]
  },
  {
   "cell_type": "markdown",
   "metadata": {
    "collapsed": false
   },
   "source": [
    "# **Step1：准备数据。**\n",
    "\n",
    "(1)数据集介绍\n",
    "\n",
    "MNIST数据集包含60000个训练集和10000测试数据集。分为图片和标签，图片是28*28的像素矩阵，标签为0~9共10个数字。\n",
    "\n",
    "![](https://ai-studio-static-online.cdn.bcebos.com/fc73217ae57f451a89badc801a903bb742e42eabd9434ecc8089efe19a66c076)\n",
    "\n",
    "(2)train_reader和test_reader\n",
    "\n",
    "paddle.dataset.mnist.train()和test()分别用于获取mnist训练集和测试集\n",
    "\n",
    "paddle.reader.shuffle()表示每次缓存BUF_SIZE个数据项，并进行打乱\n",
    "\n",
    "paddle.batch()表示每BATCH_SIZE组成一个batch\n",
    "\n",
    "（3）打印看下数据是什么样的？PaddlePaddle接口提供的数据已经经过了归一化、居中等处理。"
   ]
  },
  {
   "cell_type": "code",
   "execution_count": 2,
   "metadata": {
    "collapsed": false
   },
   "outputs": [
    {
     "name": "stderr",
     "output_type": "stream",
     "text": [
      "Cache file /home/aistudio/.cache/paddle/dataset/mnist/train-images-idx3-ubyte.gz not found, downloading https://dataset.bj.bcebos.com/mnist/train-images-idx3-ubyte.gz \n",
      "Begin to download\n",
      "\n",
      "Download finished\n",
      "Cache file /home/aistudio/.cache/paddle/dataset/mnist/train-labels-idx1-ubyte.gz not found, downloading https://dataset.bj.bcebos.com/mnist/train-labels-idx1-ubyte.gz \n",
      "Begin to download\n",
      "........\n",
      "Download finished\n",
      "Cache file /home/aistudio/.cache/paddle/dataset/mnist/t10k-images-idx3-ubyte.gz not found, downloading https://dataset.bj.bcebos.com/mnist/t10k-images-idx3-ubyte.gz \n",
      "Begin to download\n",
      "\n",
      "Download finished\n",
      "Cache file /home/aistudio/.cache/paddle/dataset/mnist/t10k-labels-idx1-ubyte.gz not found, downloading https://dataset.bj.bcebos.com/mnist/t10k-labels-idx1-ubyte.gz \n",
      "Begin to download\n",
      "..\n",
      "Download finished\n"
     ]
    },
    {
     "name": "stdout",
     "output_type": "stream",
     "text": [
      "(array([-1.        , -1.        , -1.        , -1.        , -1.        ,\n",
      "       -1.        , -1.        , -1.        , -1.        , -1.        ,\n",
      "       -1.        , -1.        , -1.        , -1.        , -1.        ,\n",
      "       -1.        , -1.        , -1.        , -1.        , -1.        ,\n",
      "       -1.        , -1.        , -1.        , -1.        , -1.        ,\n",
      "       -1.        , -1.        , -1.        , -1.        , -1.        ,\n",
      "       -1.        , -1.        , -1.        , -1.        , -1.        ,\n",
      "       -1.        , -1.        , -1.        , -1.        , -1.        ,\n",
      "       -1.        , -1.        , -1.        , -1.        , -1.        ,\n",
      "       -1.        , -1.        , -1.        , -1.        , -1.        ,\n",
      "       -1.        , -1.        , -1.        , -1.        , -1.        ,\n",
      "       -1.        , -1.        , -1.        , -1.        , -1.        ,\n",
      "       -1.        , -1.        , -1.        , -1.        , -1.        ,\n",
      "       -1.        , -1.        , -1.        , -1.        , -1.        ,\n",
      "       -1.        , -1.        , -1.        , -1.        , -1.        ,\n",
      "       -1.        , -1.        , -1.        , -1.        , -1.        ,\n",
      "       -1.        , -1.        , -1.        , -1.        , -1.        ,\n",
      "       -1.        , -1.        , -1.        , -1.        , -1.        ,\n",
      "       -1.        , -1.        , -1.        , -1.        , -1.        ,\n",
      "       -1.        , -1.        , -1.        , -1.        , -1.        ,\n",
      "       -1.        , -1.        , -1.        , -1.        , -1.        ,\n",
      "       -1.        , -1.        , -1.        , -1.        , -1.        ,\n",
      "       -1.        , -1.        , -1.        , -1.        , -1.        ,\n",
      "       -1.        , -1.        , -1.        , -1.        , -1.        ,\n",
      "       -1.        , -1.        , -1.        , -1.        , -1.        ,\n",
      "       -1.        , -1.        , -1.        , -1.        , -1.        ,\n",
      "       -1.        , -1.        , -1.        , -1.        , -1.        ,\n",
      "       -1.        , -1.        , -1.        , -1.        , -1.        ,\n",
      "       -1.        , -1.        , -1.        , -1.        , -1.        ,\n",
      "       -1.        , -1.        , -1.        , -1.        , -1.        ,\n",
      "       -1.        , -1.        , -0.9764706 , -0.85882354, -0.85882354,\n",
      "       -0.85882354, -0.01176471,  0.06666672,  0.37254906, -0.79607844,\n",
      "        0.30196083,  1.        ,  0.9372549 , -0.00392157, -1.        ,\n",
      "       -1.        , -1.        , -1.        , -1.        , -1.        ,\n",
      "       -1.        , -1.        , -1.        , -1.        , -1.        ,\n",
      "       -1.        , -0.7647059 , -0.7176471 , -0.26274508,  0.20784318,\n",
      "        0.33333337,  0.9843137 ,  0.9843137 ,  0.9843137 ,  0.9843137 ,\n",
      "        0.9843137 ,  0.7647059 ,  0.34901965,  0.9843137 ,  0.8980392 ,\n",
      "        0.5294118 , -0.4980392 , -1.        , -1.        , -1.        ,\n",
      "       -1.        , -1.        , -1.        , -1.        , -1.        ,\n",
      "       -1.        , -1.        , -1.        , -0.6156863 ,  0.8666667 ,\n",
      "        0.9843137 ,  0.9843137 ,  0.9843137 ,  0.9843137 ,  0.9843137 ,\n",
      "        0.9843137 ,  0.9843137 ,  0.9843137 ,  0.96862745, -0.27058822,\n",
      "       -0.35686272, -0.35686272, -0.56078434, -0.69411767, -1.        ,\n",
      "       -1.        , -1.        , -1.        , -1.        , -1.        ,\n",
      "       -1.        , -1.        , -1.        , -1.        , -1.        ,\n",
      "       -1.        , -0.85882354,  0.7176471 ,  0.9843137 ,  0.9843137 ,\n",
      "        0.9843137 ,  0.9843137 ,  0.9843137 ,  0.5529412 ,  0.427451  ,\n",
      "        0.9372549 ,  0.8901961 , -1.        , -1.        , -1.        ,\n",
      "       -1.        , -1.        , -1.        , -1.        , -1.        ,\n",
      "       -1.        , -1.        , -1.        , -1.        , -1.        ,\n",
      "       -1.        , -1.        , -1.        , -1.        , -1.        ,\n",
      "       -0.372549  ,  0.22352946, -0.1607843 ,  0.9843137 ,  0.9843137 ,\n",
      "        0.60784316, -0.9137255 , -1.        , -0.6627451 ,  0.20784318,\n",
      "       -1.        , -1.        , -1.        , -1.        , -1.        ,\n",
      "       -1.        , -1.        , -1.        , -1.        , -1.        ,\n",
      "       -1.        , -1.        , -1.        , -1.        , -1.        ,\n",
      "       -1.        , -1.        , -1.        , -1.        , -0.8901961 ,\n",
      "       -0.99215686,  0.20784318,  0.9843137 , -0.29411763, -1.        ,\n",
      "       -1.        , -1.        , -1.        , -1.        , -1.        ,\n",
      "       -1.        , -1.        , -1.        , -1.        , -1.        ,\n",
      "       -1.        , -1.        , -1.        , -1.        , -1.        ,\n",
      "       -1.        , -1.        , -1.        , -1.        , -1.        ,\n",
      "       -1.        , -1.        , -1.        , -1.        ,  0.09019613,\n",
      "        0.9843137 ,  0.4901961 , -0.9843137 , -1.        , -1.        ,\n",
      "       -1.        , -1.        , -1.        , -1.        , -1.        ,\n",
      "       -1.        , -1.        , -1.        , -1.        , -1.        ,\n",
      "       -1.        , -1.        , -1.        , -1.        , -1.        ,\n",
      "       -1.        , -1.        , -1.        , -1.        , -1.        ,\n",
      "       -1.        , -1.        , -0.9137255 ,  0.4901961 ,  0.9843137 ,\n",
      "       -0.45098037, -1.        , -1.        , -1.        , -1.        ,\n",
      "       -1.        , -1.        , -1.        , -1.        , -1.        ,\n",
      "       -1.        , -1.        , -1.        , -1.        , -1.        ,\n",
      "       -1.        , -1.        , -1.        , -1.        , -1.        ,\n",
      "       -1.        , -1.        , -1.        , -1.        , -1.        ,\n",
      "       -1.        , -0.7254902 ,  0.8901961 ,  0.7647059 ,  0.254902  ,\n",
      "       -0.15294117, -0.99215686, -1.        , -1.        , -1.        ,\n",
      "       -1.        , -1.        , -1.        , -1.        , -1.        ,\n",
      "       -1.        , -1.        , -1.        , -1.        , -1.        ,\n",
      "       -1.        , -1.        , -1.        , -1.        , -1.        ,\n",
      "       -1.        , -1.        , -1.        , -1.        , -1.        ,\n",
      "       -0.36470586,  0.88235295,  0.9843137 ,  0.9843137 , -0.06666666,\n",
      "       -0.8039216 , -1.        , -1.        , -1.        , -1.        ,\n",
      "       -1.        , -1.        , -1.        , -1.        , -1.        ,\n",
      "       -1.        , -1.        , -1.        , -1.        , -1.        ,\n",
      "       -1.        , -1.        , -1.        , -1.        , -1.        ,\n",
      "       -1.        , -1.        , -1.        , -1.        , -0.64705884,\n",
      "        0.45882356,  0.9843137 ,  0.9843137 ,  0.17647064, -0.7882353 ,\n",
      "       -1.        , -1.        , -1.        , -1.        , -1.        ,\n",
      "       -1.        , -1.        , -1.        , -1.        , -1.        ,\n",
      "       -1.        , -1.        , -1.        , -1.        , -1.        ,\n",
      "       -1.        , -1.        , -1.        , -1.        , -1.        ,\n",
      "       -1.        , -1.        , -1.        , -0.8745098 , -0.27058822,\n",
      "        0.9764706 ,  0.9843137 ,  0.4666667 , -1.        , -1.        ,\n",
      "       -1.        , -1.        , -1.        , -1.        , -1.        ,\n",
      "       -1.        , -1.        , -1.        , -1.        , -1.        ,\n",
      "       -1.        , -1.        , -1.        , -1.        , -1.        ,\n",
      "       -1.        , -1.        , -1.        , -1.        , -1.        ,\n",
      "       -1.        , -1.        , -1.        ,  0.9529412 ,  0.9843137 ,\n",
      "        0.9529412 , -0.4980392 , -1.        , -1.        , -1.        ,\n",
      "       -1.        , -1.        , -1.        , -1.        , -1.        ,\n",
      "       -1.        , -1.        , -1.        , -1.        , -1.        ,\n",
      "       -1.        , -1.        , -1.        , -1.        , -1.        ,\n",
      "       -1.        , -1.        , -1.        , -0.6392157 ,  0.0196079 ,\n",
      "        0.43529415,  0.9843137 ,  0.9843137 ,  0.62352943, -0.9843137 ,\n",
      "       -1.        , -1.        , -1.        , -1.        , -1.        ,\n",
      "       -1.        , -1.        , -1.        , -1.        , -1.        ,\n",
      "       -1.        , -1.        , -1.        , -1.        , -1.        ,\n",
      "       -1.        , -1.        , -1.        , -1.        , -0.69411767,\n",
      "        0.16078436,  0.79607844,  0.9843137 ,  0.9843137 ,  0.9843137 ,\n",
      "        0.9607843 ,  0.427451  , -1.        , -1.        , -1.        ,\n",
      "       -1.        , -1.        , -1.        , -1.        , -1.        ,\n",
      "       -1.        , -1.        , -1.        , -1.        , -1.        ,\n",
      "       -1.        , -1.        , -1.        , -1.        , -1.        ,\n",
      "       -0.8117647 , -0.10588235,  0.73333335,  0.9843137 ,  0.9843137 ,\n",
      "        0.9843137 ,  0.9843137 ,  0.5764706 , -0.38823527, -1.        ,\n",
      "       -1.        , -1.        , -1.        , -1.        , -1.        ,\n",
      "       -1.        , -1.        , -1.        , -1.        , -1.        ,\n",
      "       -1.        , -1.        , -1.        , -1.        , -1.        ,\n",
      "       -1.        , -0.81960785, -0.4823529 ,  0.67058825,  0.9843137 ,\n",
      "        0.9843137 ,  0.9843137 ,  0.9843137 ,  0.5529412 , -0.36470586,\n",
      "       -0.9843137 , -1.        , -1.        , -1.        , -1.        ,\n",
      "       -1.        , -1.        , -1.        , -1.        , -1.        ,\n",
      "       -1.        , -1.        , -1.        , -1.        , -1.        ,\n",
      "       -1.        , -1.        , -0.85882354,  0.3411765 ,  0.7176471 ,\n",
      "        0.9843137 ,  0.9843137 ,  0.9843137 ,  0.9843137 ,  0.5294118 ,\n",
      "       -0.372549  , -0.92941177, -1.        , -1.        , -1.        ,\n",
      "       -1.        , -1.        , -1.        , -1.        , -1.        ,\n",
      "       -1.        , -1.        , -1.        , -1.        , -1.        ,\n",
      "       -1.        , -1.        , -1.        , -0.5686275 ,  0.34901965,\n",
      "        0.77254903,  0.9843137 ,  0.9843137 ,  0.9843137 ,  0.9843137 ,\n",
      "        0.9137255 ,  0.04313731, -0.9137255 , -1.        , -1.        ,\n",
      "       -1.        , -1.        , -1.        , -1.        , -1.        ,\n",
      "       -1.        , -1.        , -1.        , -1.        , -1.        ,\n",
      "       -1.        , -1.        , -1.        , -1.        , -1.        ,\n",
      "       -1.        ,  0.06666672,  0.9843137 ,  0.9843137 ,  0.9843137 ,\n",
      "        0.6627451 ,  0.05882359,  0.03529418, -0.8745098 , -1.        ,\n",
      "       -1.        , -1.        , -1.        , -1.        , -1.        ,\n",
      "       -1.        , -1.        , -1.        , -1.        , -1.        ,\n",
      "       -1.        , -1.        , -1.        , -1.        , -1.        ,\n",
      "       -1.        , -1.        , -1.        , -1.        , -1.        ,\n",
      "       -1.        , -1.        , -1.        , -1.        , -1.        ,\n",
      "       -1.        , -1.        , -1.        , -1.        , -1.        ,\n",
      "       -1.        , -1.        , -1.        , -1.        , -1.        ,\n",
      "       -1.        , -1.        , -1.        , -1.        , -1.        ,\n",
      "       -1.        , -1.        , -1.        , -1.        , -1.        ,\n",
      "       -1.        , -1.        , -1.        , -1.        , -1.        ,\n",
      "       -1.        , -1.        , -1.        , -1.        , -1.        ,\n",
      "       -1.        , -1.        , -1.        , -1.        , -1.        ,\n",
      "       -1.        , -1.        , -1.        , -1.        , -1.        ,\n",
      "       -1.        , -1.        , -1.        , -1.        , -1.        ,\n",
      "       -1.        , -1.        , -1.        , -1.        , -1.        ,\n",
      "       -1.        , -1.        , -1.        , -1.        , -1.        ,\n",
      "       -1.        , -1.        , -1.        , -1.        , -1.        ,\n",
      "       -1.        , -1.        , -1.        , -1.        , -1.        ,\n",
      "       -1.        , -1.        , -1.        , -1.        , -1.        ,\n",
      "       -1.        , -1.        , -1.        , -1.        ], dtype=float32), 5)\n"
     ]
    }
   ],
   "source": [
    "BUF_SIZE=512\r\n",
    "BATCH_SIZE=128\r\n",
    "#用于训练的数据提供器，每次从缓存中随机读取批次大小的数据\r\n",
    "train_reader = paddle.batch(\r\n",
    "    paddle.reader.shuffle(paddle.dataset.mnist.train(),\r\n",
    "                          buf_size=BUF_SIZE),\r\n",
    "    batch_size=BATCH_SIZE)\r\n",
    "#用于训练的数据提供器，每次从缓存中随机读取批次大小的数据\r\n",
    "test_reader = paddle.batch(\r\n",
    "    paddle.reader.shuffle(paddle.dataset.mnist.test(),\r\n",
    "                          buf_size=BUF_SIZE),\r\n",
    "    batch_size=BATCH_SIZE)\r\n",
    "    \r\n",
    "#用于打印，查看mnist数据\r\n",
    "train_data=paddle.dataset.mnist.train();\r\n",
    "sampledata=next(train_data())\r\n",
    "print(sampledata)"
   ]
  },
  {
   "cell_type": "markdown",
   "metadata": {
    "collapsed": false
   },
   "source": [
    "# **Step2.网络配置**\n",
    "以下的代码判断就是定义一个简单的多层感知器，一共有三层，两个大小为100的隐层和一个大小为10的输出层，因为MNIST数据集是手写0到9的灰度图像，类别有10个，所以最后的输出大小是10。最后输出层的激活函数是Softmax，所以最后的输出层相当于一个分类器。加上一个输入层的话，多层感知器的结构是：输入层-->>隐层-->>隐层-->>输出层。\n",
    "\n",
    "![](https://ai-studio-static-online.cdn.bcebos.com/cb69f928778c4299b75814179607a89eea770bdc409d4e08a87e2975cb96b19b)"
   ]
  },
  {
   "cell_type": "code",
   "execution_count": 3,
   "metadata": {
    "collapsed": false
   },
   "outputs": [],
   "source": [
    "# 定义多层感知器 \r\n",
    "def multilayer_perceptron(input): \r\n",
    "    # 第一个全连接层，激活函数为ReLU \r\n",
    "    hidden1 = fluid.layers.fc(input=input, size=100, act='relu') \r\n",
    "    # 第二个全连接层，激活函数为ReLU \r\n",
    "    hidden2 = fluid.layers.fc(input=hidden1, size=100, act='relu') \r\n",
    "    # 以softmax为激活函数的全连接输出层，输出层的大小必须为数字的个数10 \r\n",
    "    prediction = fluid.layers.fc(input=hidden2, size=10, act='softmax') \r\n",
    "    return prediction "
   ]
  },
  {
   "cell_type": "markdown",
   "metadata": {
    "collapsed": false
   },
   "source": [
    "（2）定义数据层\r\n",
    "\r\n",
    "输入的是图像数据。图像是 28 * 28 的灰度图，所以输入的形状是[1, 28, 28]，如果图像是32*32的彩色图，那么输入的形状是[3. 32, 32]，因为灰度图只有一个通道，而彩色图有RGB三个通道。"
   ]
  },
  {
   "cell_type": "code",
   "execution_count": 4,
   "metadata": {
    "collapsed": false
   },
   "outputs": [],
   "source": [
    "# 输入的原始图像数据，大小为1*28*28\r\n",
    "image = fluid.layers.data(name='image', shape=[1, 28, 28], dtype='float32')#单通道，28*28像素值\r\n",
    "# 标签，名称为label,对应输入图片的类别标签\r\n",
    "label = fluid.layers.data(name='label', shape=[1], dtype='int64')          #图片标签"
   ]
  },
  {
   "cell_type": "markdown",
   "metadata": {
    "collapsed": false
   },
   "source": [
    "（3）获取分类器"
   ]
  },
  {
   "cell_type": "code",
   "execution_count": 5,
   "metadata": {
    "collapsed": false
   },
   "outputs": [],
   "source": [
    "# 获取分类器\r\n",
    "predict = multilayer_perceptron(image)"
   ]
  },
  {
   "cell_type": "markdown",
   "metadata": {
    "collapsed": false
   },
   "source": [
    "（4）定义损失函数和准确率\n",
    "\n",
    "这次使用的是交叉熵损失函数，该函数在分类任务上比较常用。\n",
    "\n",
    "定义了一个损失函数之后，还有对它求平均值，训练程序必须返回平均损失作为第一个返回值，因为它会被后面反向传播算法所用到。。\n",
    "\n",
    "同时我们还可以定义一个准确率函数，这个可以在我们训练的时候输出分类的准确率。"
   ]
  },
  {
   "cell_type": "code",
   "execution_count": 6,
   "metadata": {
    "collapsed": false
   },
   "outputs": [],
   "source": [
    "#使用交叉熵损失函数,描述真实样本标签和预测概率之间的差值\r\n",
    "cost = fluid.layers.cross_entropy(input=predict, label=label)  \r\n",
    "# 使用类交叉熵函数计算predict和label之间的损失函数\r\n",
    "avg_cost = fluid.layers.mean(cost)\r\n",
    "# 计算分类准确率\r\n",
    "acc = fluid.layers.accuracy(input=predict, label=label)"
   ]
  },
  {
   "cell_type": "markdown",
   "metadata": {
    "collapsed": false
   },
   "source": [
    "（5）定义优化函数\n",
    "\n",
    "这次我们使用的是Adam优化方法，同时指定学习率为0.001"
   ]
  },
  {
   "cell_type": "code",
   "execution_count": 7,
   "metadata": {
    "collapsed": false
   },
   "outputs": [],
   "source": [
    " #使用Adam算法进行优化, learning_rate 是学习率(它的大小与网络的训练收敛速度有关系)\r\n",
    "optimizer = fluid.optimizer.AdamOptimizer(learning_rate=0.001)  \r\n",
    "opts = optimizer.minimize(avg_cost)"
   ]
  },
  {
   "cell_type": "markdown",
   "metadata": {
    "collapsed": false
   },
   "source": [
    "在上述模型配置完毕后，得到两个fluid.Program：fluid.default_startup_program() 与fluid.default_main_program() 配置完毕了。\n",
    "\n",
    "参数初始化操作会被写入fluid.default_startup_program()\n",
    "\n",
    "fluid.default_main_program()用于获取默认或全局main program(主程序)。该主程序用于训练和测试模型。fluid.layers 中的所有layer函数可以向 default_main_program 中添加算子和变量。default_main_program 是fluid的许多编程接口（API）的Program参数的缺省值。例如,当用户program没有传入的时候， Executor.run() 会默认执行 default_main_program 。"
   ]
  },
  {
   "cell_type": "markdown",
   "metadata": {
    "collapsed": false
   },
   "source": [
    "# **Step3.模型训练 and Step4.模型评估**\n",
    "（1）创建训练的Executor\n",
    "\n",
    "首先定义运算场所 fluid.CPUPlace()和 fluid.CUDAPlace(0)分别表示运算场所为CPU和GPU\n",
    "\n",
    "Executor:接收传入的program，通过run()方法运行program。"
   ]
  },
  {
   "cell_type": "code",
   "execution_count": 8,
   "metadata": {
    "collapsed": false
   },
   "outputs": [
    {
     "data": {
      "text/plain": [
       "[]"
      ]
     },
     "execution_count": 8,
     "metadata": {},
     "output_type": "execute_result"
    }
   ],
   "source": [
    "# 定义使用CPU还是GPU，使用CPU时use_cuda = False,使用GPU时use_cuda = True\r\n",
    "use_cuda = False\r\n",
    "place = fluid.CUDAPlace(0) if use_cuda else fluid.CPUPlace()\r\n",
    "# 获取测试程序\r\n",
    "test_program = fluid.default_main_program().clone(for_test=True)\r\n",
    "exe = fluid.Executor(place)\r\n",
    "exe.run(fluid.default_startup_program())"
   ]
  },
  {
   "cell_type": "markdown",
   "metadata": {
    "collapsed": false
   },
   "source": [
    "（2）告知网络传入的数据分为两部分，第一部分是image值，第二部分是label值\n",
    "\n",
    "DataFeeder负责将数据提供器（train_reader,test_reader）返回的数据转成一种特殊的数据结构，使其可以输入到Executor中。"
   ]
  },
  {
   "cell_type": "code",
   "execution_count": 9,
   "metadata": {
    "collapsed": false
   },
   "outputs": [],
   "source": [
    "\r\n",
    "feeder = fluid.DataFeeder(place=place, feed_list=[image, label])"
   ]
  },
  {
   "cell_type": "markdown",
   "metadata": {
    "collapsed": false
   },
   "source": [
    "(3)展示模型训练曲线"
   ]
  },
  {
   "cell_type": "code",
   "execution_count": 10,
   "metadata": {
    "collapsed": false
   },
   "outputs": [],
   "source": [
    "all_train_iter=0\r\n",
    "all_train_iters=[]\r\n",
    "all_train_costs=[]\r\n",
    "all_train_accs=[]\r\n",
    "\r\n",
    "def draw_train_process(title,iters,costs,accs,label_cost,lable_acc):\r\n",
    "    plt.title(title, fontsize=24)\r\n",
    "    plt.xlabel(\"iter\", fontsize=20)\r\n",
    "    plt.ylabel(\"cost/acc\", fontsize=20)\r\n",
    "    plt.plot(iters, costs,color='red',label=label_cost) \r\n",
    "    plt.plot(iters, accs,color='green',label=lable_acc) \r\n",
    "    plt.legend()\r\n",
    "    plt.grid()\r\n",
    "    plt.show()"
   ]
  },
  {
   "cell_type": "markdown",
   "metadata": {
    "collapsed": false
   },
   "source": [
    "（4）训练并保存模型\n",
    "\n",
    "训练需要有一个训练程序和一些必要参数，并构建了一个获取训练过程中测试误差的函数。必要参数有executor,program,reader,feeder,fetch_list。\n",
    "\n",
    "**executor**表示之前创建的执行器\n",
    "\n",
    "**program**表示执行器所执行的program，是之前创建的program，如果该项参数没有给定的话则默认使用defalut_main_program\n",
    "\n",
    "**reader**表示读取到的数据\n",
    "\n",
    "**feeder**表示前向输入的变量\n",
    "\n",
    "**fetch_list**表示用户想得到的变量"
   ]
  },
  {
   "cell_type": "code",
   "execution_count": 11,
   "metadata": {
    "collapsed": false
   },
   "outputs": [
    {
     "name": "stdout",
     "output_type": "stream",
     "text": [
      "Pass:0, Batch:0, Cost:2.62596, Accuracy:0.10156\n",
      "Pass:0, Batch:200, Cost:0.21781, Accuracy:0.93750\n",
      "Pass:0, Batch:400, Cost:0.25953, Accuracy:0.92188\n",
      "Test:0, Cost:0.22503, Accuracy:0.93206\n",
      "Pass:1, Batch:0, Cost:0.24638, Accuracy:0.91406\n",
      "Pass:1, Batch:200, Cost:0.16108, Accuracy:0.94531\n",
      "Pass:1, Batch:400, Cost:0.20395, Accuracy:0.92969\n",
      "Test:1, Cost:0.17061, Accuracy:0.94719\n",
      "save models to /home/aistudio/work/hand.inference.model\n",
      "训练模型保存完成！\n"
     ]
    },
    {
     "data": {
      "image/png": "[encoded data removed]",
      "text/plain": [
       "<Figure size 640x480 with 1 Axes>"
      ]
     },
     "metadata": {},
     "output_type": "display_data"
    }
   ],
   "source": [
    "EPOCH_NUM= 2\r\n",
    "model_save_dir = \"/home/aistudio/work/hand.inference.model\"\r\n",
    "for pass_id in range(EPOCH_NUM):\r\n",
    "    # 进行训练\r\n",
    "    for batch_id, data in enumerate(train_reader()):                         #遍历train_reader\r\n",
    "        train_cost, train_acc = exe.run(program=fluid.default_main_program(),#运行主程序\r\n",
    "                                        feed=feeder.feed(data),              #给模型喂入数据\r\n",
    "                                        fetch_list=[avg_cost, acc])          #fetch 误差、准确率  \r\n",
    "        \r\n",
    "        all_train_iter=all_train_iter+BATCH_SIZE\r\n",
    "        all_train_iters.append(all_train_iter)\r\n",
    "        \r\n",
    "        all_train_costs.append(train_cost[0])\r\n",
    "        all_train_accs.append(train_acc[0])\r\n",
    "        \r\n",
    "        # 每200个batch打印一次信息  误差、准确率\r\n",
    "        if batch_id % 200 == 0:\r\n",
    "            print('Pass:%d, Batch:%d, Cost:%0.5f, Accuracy:%0.5f' %\r\n",
    "                  (pass_id, batch_id, train_cost[0], train_acc[0]))\r\n",
    "\r\n",
    "    # 进行测试\r\n",
    "    test_accs = []\r\n",
    "    test_costs = []\r\n",
    "    #每训练一轮 进行一次测试\r\n",
    "    for batch_id, data in enumerate(test_reader()):                         #遍历test_reader\r\n",
    "        test_cost, test_acc = exe.run(program=test_program, #执行训练程序\r\n",
    "                                      feed=feeder.feed(data),               #喂入数据\r\n",
    "                                      fetch_list=[avg_cost, acc])           #fetch 误差、准确率\r\n",
    "        test_accs.append(test_acc[0])                                       #每个batch的准确率\r\n",
    "        test_costs.append(test_cost[0])                                     #每个batch的误差\r\n",
    "        \r\n",
    "       \r\n",
    "    # 求测试结果的平均值\r\n",
    "    test_cost = (sum(test_costs) / len(test_costs))                         #每轮的平均误差\r\n",
    "    test_acc = (sum(test_accs) / len(test_accs))                            #每轮的平均准确率\r\n",
    "    print('Test:%d, Cost:%0.5f, Accuracy:%0.5f' % (pass_id, test_cost, test_acc))\r\n",
    "    \r\n",
    "    #保存模型\r\n",
    "    # 如果保存路径不存在就创建\r\n",
    "if not os.path.exists(model_save_dir):\r\n",
    "    os.makedirs(model_save_dir)\r\n",
    "print ('save models to %s' % (model_save_dir))\r\n",
    "fluid.io.save_inference_model(model_save_dir,   #保存推理model的路径\r\n",
    "                                  ['image'],    #推理（inference）需要 feed 的数据\r\n",
    "                                  [predict],    #保存推理（inference）结果的 Variables\r\n",
    "                                  exe)             #executor 保存 inference model\r\n",
    "\r\n",
    "print('训练模型保存完成！')\r\n",
    "draw_train_process(\"training\",all_train_iters,all_train_costs,all_train_accs,\"trainning cost\",\"trainning acc\")"
   ]
  },
  {
   "cell_type": "markdown",
   "metadata": {
    "collapsed": false
   },
   "source": [
    "# **Step5.模型预测**"
   ]
  },
  {
   "cell_type": "markdown",
   "metadata": {
    "collapsed": false
   },
   "source": [
    "（1）图片预处理\n",
    "\n",
    "在预测之前，要对图像进行预处理。\n",
    "\n",
    "首先进行灰度化，然后压缩图像大小为28*28，接着将图像转换成一维向量，最后再对一维向量进行归一化处理。"
   ]
  },
  {
   "cell_type": "code",
   "execution_count": 12,
   "metadata": {
    "collapsed": false
   },
   "outputs": [],
   "source": [
    "def load_image(file):\r\n",
    "    im = Image.open(file).convert('L')                        #将RGB转化为灰度图像，L代表灰度图像，像素值在0~255之间\r\n",
    "    im = im.resize((28, 28), Image.ANTIALIAS)                 #resize image with high-quality 图像大小为28*28\r\n",
    "    # im = im.point(lambda x: x * 2 if x > 80 else x)\r\n",
    "    plt.imshow(im)\r\n",
    "    im = np.array(im).reshape(1, 1, 28, 28).astype(np.float32)#返回新形状的数组,把它变成一个 numpy 数组以匹配数据馈送格式。\r\n",
    "    # print(im)\r\n",
    "    im = im / 255.0 * 2.0 - 1.0                               #归一化到【-1~1】之间\r\n",
    "    return im\r\n"
   ]
  },
  {
   "cell_type": "markdown",
   "metadata": {
    "collapsed": false
   },
   "source": [
    "（2）使用Matplotlib工具显示这张图像。"
   ]
  },
  {
   "cell_type": "code",
   "execution_count": null,
   "metadata": {
    "collapsed": false
   },
   "outputs": [],
   "source": [
    "# infer_path='/home/aistudio/data/data2195/infer_9.jpg'\r\n",
    "infer_path='/home/aistudio/digits/8_130.jpg'\r\n",
    "img = Image.open(infer_path)\r\n",
    "print(img.size)\r\n",
    "plt.imshow(img)   #根据数组绘制图像\r\n",
    "plt.show()        #显示图像"
   ]
  },
  {
   "cell_type": "markdown",
   "metadata": {
    "collapsed": false
   },
   "source": [
    "(3)创建预测用的Executer"
   ]
  },
  {
   "cell_type": "code",
   "execution_count": null,
   "metadata": {
    "collapsed": false
   },
   "outputs": [],
   "source": [
    "infer_exe = fluid.Executor(place)\n",
    "inference_scope = fluid.core.Scope()"
   ]
  },
  {
   "cell_type": "markdown",
   "metadata": {
    "collapsed": false
   },
   "source": [
    "(4)开始预测\n",
    "\n",
    "通过fluid.io.load_inference_model，预测器会从params_dirname中读取已经训练好的模型，来对从未遇见过的数据进行预测。"
   ]
  },
  {
   "cell_type": "code",
   "execution_count": null,
   "metadata": {
    "collapsed": false
   },
   "outputs": [],
   "source": [
    "# 加载数据并开始预测\r\n",
    "with fluid.scope_guard(inference_scope):\r\n",
    "    #获取训练好的模型\r\n",
    "    #从指定目录中加载 推理model(inference model)\r\n",
    "    [inference_program,                                            #推理Program\r\n",
    "     feed_target_names,                                            #是一个str列表，它包含需要在推理 Program 中提供数据的变量的名称。 \r\n",
    "     fetch_targets] = fluid.io.load_inference_model(model_save_dir,#fetch_targets：是一个 Variable 列表，从中我们可以得到推断结果。model_save_dir：模型保存的路径\r\n",
    "                                                    infer_exe)     #infer_exe: 运行 inference model的 executor\r\n",
    "    img = load_image(infer_path)\r\n",
    "\r\n",
    "    results = infer_exe.run(program=inference_program,               #运行推测程序\r\n",
    "                   feed={feed_target_names[0]: img},           #喂入要预测的img\r\n",
    "                   fetch_list=fetch_targets)                   #得到推测结果,  \r\n",
    "    print(results)\r\n",
    "    # 获取概率最大的label\r\n",
    "    lab = np.argsort(results)                                  #argsort函数返回的是result数组值从小到大的索引值\r\n",
    "    print(lab)\r\n",
    "    print(\"该图片的预测结果的label为: %d\" % lab[0][0][-1])     #-1代表读取数组中倒数第一列  "
   ]
  }
 ],
 "metadata": {
  "kernelspec": {
   "display_name": "Python 3",
   "language": "python",
   "name": "py35-paddle1.2.0"
  },
  "language_info": {
   "codemirror_mode": {
    "name": "ipython",
    "version": 3
   },
   "file_extension": ".py",
   "mimetype": "text/x-python",
   "name": "python",
   "nbconvert_exporter": "python",
   "pygments_lexer": "ipython3",
   "version": "3.7.4"
  }
 },
 "nbformat": 4,
 "nbformat_minor": 1
}
